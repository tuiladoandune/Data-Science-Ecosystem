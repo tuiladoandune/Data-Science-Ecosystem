{
 "cells": [
  {
   "cell_type": "markdown",
   "id": "d47f3c48-2bd7-4122-bd84-81202dbf4e67",
   "metadata": {},
   "source": [
    "# Data Science Tools and Ecosystem"
   ]
  },
  {
   "cell_type": "markdown",
   "id": "5a333665-171a-4c56-872a-b85037cae2c8",
   "metadata": {},
   "source": [
    "In this notebook, Data Science Tools and Ecosystems are summarized"
   ]
  },
  {
   "cell_type": "markdown",
   "id": "515fb408-a1ee-426a-86ac-b38fdd3ba18e",
   "metadata": {},
   "source": [
    "**Objectives:**\n",
    "- List popular languages for Data Science\n",
    "- List common library for Data Science\n",
    "- List open-source tools used in Data Science\n",
    "- Evaluating arithmetic expressions in Python\n",
    "- Convert minutes to hours\n",
    "## Author\n",
    "Doan Du"
   ]
  },
  {
   "cell_type": "markdown",
   "id": "f1417c31-f0be-420f-a1f8-c5324b96b121",
   "metadata": {},
   "source": [
    "Some of the popular languages that Data Scientists use are:\n",
    "1. Python\n",
    "2. R\n",
    "3. Java\n",
    "4. C++\n",
    "5. C"
   ]
  },
  {
   "cell_type": "markdown",
   "id": "efe613ae-c180-4b1d-bd3a-1589b9e33cb4",
   "metadata": {},
   "source": [
    "Some of the commonly used libraries used by Data Scientists include:\n",
    "1. Pandas\n",
    "2. Numpy\n",
    "3. Matplotlib\n",
    "4. Seaborn\n",
    "5. Scikit-learn"
   ]
  },
  {
   "cell_type": "markdown",
   "id": "d9fbe181-fae2-4063-98b8-9294873d4c4a",
   "metadata": {},
   "source": [
    "|Data Science Tools|\n",
    "|------------------|\n",
    "|RStudio|\n",
    "|Jupyter Notebook|\n",
    "|VS Code|\n",
    "|Orange|"
   ]
  },
  {
   "cell_type": "markdown",
   "id": "e1fe5ee2-7a6c-4e86-8a18-d7670cad8340",
   "metadata": {},
   "source": [
    "### Below are a few examples of evaluating arithmetic expressions in Python"
   ]
  },
  {
   "cell_type": "code",
   "execution_count": 6,
   "id": "8161b3cd-1149-4c9c-9eaa-2966365416f3",
   "metadata": {},
   "outputs": [
    {
     "data": {
      "text/plain": [
       "17"
      ]
     },
     "execution_count": 6,
     "metadata": {},
     "output_type": "execute_result"
    }
   ],
   "source": [
    "# This is a simple arithmetic expression to multiply and then add integers\n",
    "(3*4) + 5"
   ]
  },
  {
   "cell_type": "code",
   "execution_count": 16,
   "id": "37e7468e-0c0e-457c-92bb-c0bbf6553b59",
   "metadata": {},
   "outputs": [
    {
     "name": "stdout",
     "output_type": "stream",
     "text": [
      "result:  3.3333333333333335\n"
     ]
    }
   ],
   "source": [
    "# This will convert 200 minutes to hours by dividing by 60\n",
    "hour = 200 / 60\n",
    "print(\"result: \", hour)"
   ]
  },
  {
   "cell_type": "markdown",
   "id": "3ca36deb-206e-4c89-b805-4909b44dbf82",
   "metadata": {},
   "source": []
  }
 ],
 "metadata": {
  "kernelspec": {
   "display_name": "Python 3 (ipykernel)",
   "language": "python",
   "name": "python3"
  },
  "language_info": {
   "codemirror_mode": {
    "name": "ipython",
    "version": 3
   },
   "file_extension": ".py",
   "mimetype": "text/x-python",
   "name": "python",
   "nbconvert_exporter": "python",
   "pygments_lexer": "ipython3",
   "version": "3.12.4"
  }
 },
 "nbformat": 4,
 "nbformat_minor": 5
}
